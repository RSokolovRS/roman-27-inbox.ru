{
 "cells": [
  {
   "cell_type": "code",
   "execution_count": 1,
   "id": "e51f4c1f",
   "metadata": {},
   "outputs": [],
   "source": [
    "class Student:\n",
    "    def __init__(self, name, surname):\n",
    "        self.name = name\n",
    "        self.surname = surname\n",
    "        self.finished_courses = []\n",
    "        self.courses_in_progress = []\n",
    "        self.grades = {}\n",
    "        self.average_rating = float()\n",
    "\n",
    "    def __str__(self):\n",
    "        grades_count = 0\n",
    "        courses_in_progress_string = ', '.join(self.courses_in_progress)\n",
    "        finished_courses_string = ', '.join(self.finished_courses)\n",
    "        for k in self.grades:\n",
    "            grades_count += len(self.grades[k])\n",
    "        self.average_rating = sum(map(sum, self.grades.values())) / grades_count\n",
    "        res = f'Имя: {self.name}\\n' \\\n",
    "              f'Фамилия: {self.surname}\\n' \\\n",
    "              f'Средняя оценка за домашнее задание: {self.average_rating}\\n' \\\n",
    "              f'Курсы в процессе обучения: {courses_in_progress_string}\\n' \\\n",
    "              f'Завершенные курсы: {finished_courses_string}'\n",
    "        return res\n",
    "\n",
    "    def rate_hw(self, lecturer, course, grade):\n",
    "       \n",
    "        if isinstance(lecturer, Lecturer) and course in self.courses_in_progress and course in lecturer.courses_attached:\n",
    "            if course in lecturer.grades:\n",
    "                lecturer.grades[course] += [grade]\n",
    "            else:\n",
    "                lecturer.grades[course] = [grade]\n",
    "        else:\n",
    "            return 'Ошибка'\n",
    "\n",
    "    def __lt__(self, other):\n",
    "        if not isinstance(other, Student):\n",
    "            print('Такое сравнение некорректно')\n",
    "            return\n",
    "        return self.average_rating < other.average_rating\n"
   ]
  },
  {
   "cell_type": "code",
   "execution_count": 2,
   "id": "30390a81",
   "metadata": {},
   "outputs": [],
   "source": [
    "class Mentor:\n",
    "    def __init__(self, name, surname):\n",
    "        self.name = name\n",
    "        self.surname = surname\n",
    "        self.courses_attached = []\n"
   ]
  },
  {
   "cell_type": "code",
   "execution_count": 3,
   "id": "4017e99a",
   "metadata": {},
   "outputs": [],
   "source": [
    "class Lecturer(Mentor):\n",
    "    def __init__(self, name, surname):\n",
    "        super().__init__(name, surname)\n",
    "        self.average_rating = float()\n",
    "        self.grades = {}\n",
    "\n",
    "    def __str__(self):\n",
    "        grades_count = 0\n",
    "        for k in self.grades:\n",
    "            grades_count += len(self.grades[k])\n",
    "        self.average_rating = sum(map(sum, self.grades.values())) / grades_count\n",
    "        res = f'Имя: {self.name}\\nФамилия: {self.surname}\\nСредняя оценка за лекции: {self.average_rating}'\n",
    "        return res\n",
    "\n",
    "    def __lt__(self, other):\n",
    "        if not isinstance(other, Lecturer):\n",
    "            print('Такое сравнение некорректно')\n",
    "            return\n",
    "        return self.average_rating < other.average_rating\n"
   ]
  },
  {
   "cell_type": "code",
   "execution_count": 4,
   "id": "a3526669",
   "metadata": {},
   "outputs": [],
   "source": [
    "class Reviewer(Mentor):\n",
    "    def rate_hw(self, student, course, grade):\n",
    "        if isinstance(student, Student) and course in self.courses_attached and course in student.courses_in_progress:\n",
    "            if course in student.grades:\n",
    "                student.grades[course] += [grade]\n",
    "            else:\n",
    "                student.grades[course] = [grade]\n",
    "        else:\n",
    "            return 'Ошибка'\n",
    "\n",
    "    def __str__(self):\n",
    "        res = f'Имя: {self.name}\\nФамилия: {self.surname}'\n",
    "        return res"
   ]
  },
  {
   "cell_type": "code",
   "execution_count": 5,
   "id": "42f550e6",
   "metadata": {},
   "outputs": [],
   "source": [
    "best_lecturer_1 = Lecturer('Ivan', 'Ivanov')\n",
    "best_lecturer_1.courses_attached += ['Python']\n",
    "\n",
    "best_lecturer_2 = Lecturer('Petr', 'Petrov')\n",
    "best_lecturer_2.courses_attached += ['Java']\n",
    "\n",
    "best_lecturer_3 = Lecturer('Semen', 'Zarev')\n",
    "best_lecturer_3.courses_attached += ['Python']\n",
    "\n",
    "\n",
    "cool_reviewer_1 = Reviewer('Some', 'Buddy')\n",
    "cool_reviewer_1.courses_attached += ['Python']\n",
    "cool_reviewer_1.courses_attached += ['Java']\n",
    "\n",
    "cool_reviewer_2 = Reviewer('Ostap', 'Bender')\n",
    "cool_reviewer_2.courses_attached += ['Python']\n",
    "cool_reviewer_2.courses_attached += ['Java']"
   ]
  },
  {
   "cell_type": "code",
   "execution_count": 11,
   "id": "a76a46e3",
   "metadata": {},
   "outputs": [],
   "source": [
    "student_1 = Student('Denis', 'Sviridov')\n",
    "student_1.courses_in_progress += ['Python']\n",
    "student_1.finished_courses += ['Введение в программирование']\n",
    "\n",
    "student_2 = Student('Roman', 'Malikov')\n",
    "student_2.courses_in_progress += ['Java']\n",
    "student_2.finished_courses += ['Введение в программирование']\n",
    "\n",
    "student_3 = Student('Sidor', 'Petrov')\n",
    "student_3.courses_in_progress += ['Python']\n",
    "student_3.finished_courses += ['Введение в программирование']\n"
   ]
  },
  {
   "cell_type": "code",
   "execution_count": 12,
   "id": "c785d46b",
   "metadata": {},
   "outputs": [],
   "source": [
    "\n",
    "student_1.rate_hw(best_lecturer_1, 'Python', 10)\n",
    "student_1.rate_hw(best_lecturer_1, 'Python', 10)\n",
    "student_1.rate_hw(best_lecturer_1, 'Python', 10)\n",
    "\n",
    "student_1.rate_hw(best_lecturer_2, 'Python', 5)\n",
    "student_1.rate_hw(best_lecturer_2, 'Python', 7)\n",
    "student_1.rate_hw(best_lecturer_2, 'Python', 8)\n",
    "\n",
    "student_1.rate_hw(best_lecturer_1, 'Python', 7)\n",
    "student_1.rate_hw(best_lecturer_1, 'Python', 8)\n",
    "student_1.rate_hw(best_lecturer_1, 'Python', 9)\n",
    "\n",
    "\n",
    "student_2.rate_hw(best_lecturer_2, 'Java', 10)\n",
    "student_2.rate_hw(best_lecturer_2, 'Java', 8)\n",
    "student_2.rate_hw(best_lecturer_2, 'Java', 9)\n",
    "\n",
    "\n",
    "student_3.rate_hw(best_lecturer_3, 'Python', 5)\n",
    "student_3.rate_hw(best_lecturer_3, 'Python', 6)\n",
    "student_3.rate_hw(best_lecturer_3, 'Python', 7)\n"
   ]
  },
  {
   "cell_type": "code",
   "execution_count": 13,
   "id": "3968b269",
   "metadata": {},
   "outputs": [],
   "source": [
    "cool_reviewer_1.rate_hw(student_1, 'Python', 8)\n",
    "cool_reviewer_1.rate_hw(student_1, 'Python', 9)\n",
    "cool_reviewer_1.rate_hw(student_1, 'Python', 10)\n",
    "\n",
    "cool_reviewer_2.rate_hw(student_2, 'Java', 8)\n",
    "cool_reviewer_2.rate_hw(student_2, 'Java', 7)\n",
    "cool_reviewer_2.rate_hw(student_2, 'Java', 9)\n",
    "\n",
    "cool_reviewer_2.rate_hw(student_3, 'Python', 8)\n",
    "cool_reviewer_2.rate_hw(student_3, 'Python', 7)\n",
    "cool_reviewer_2.rate_hw(student_3, 'Python', 9)\n",
    "cool_reviewer_2.rate_hw(student_3, 'Python', 8)\n",
    "cool_reviewer_2.rate_hw(student_3, 'Python', 7)\n",
    "cool_reviewer_2.rate_hw(student_3, 'Python', 9)\n"
   ]
  },
  {
   "cell_type": "code",
   "execution_count": 14,
   "id": "235a41ca",
   "metadata": {},
   "outputs": [
    {
     "name": "stdout",
     "output_type": "stream",
     "text": [
      "Перечень студентов:\n",
      "\n",
      "Имя: Denis\n",
      "Фамилия: Sviridov\n",
      "Средняя оценка за домашнее задание: 9.0\n",
      "Курсы в процессе обучения: Python\n",
      "Завершенные курсы: Введение в программирование\n",
      "\n",
      "Имя: Roman\n",
      "Фамилия: Malikov\n",
      "Средняя оценка за домашнее задание: 8.0\n",
      "Курсы в процессе обучения: Java\n",
      "Завершенные курсы: Введение в программирование\n",
      "\n",
      "Имя: Sidor\n",
      "Фамилия: Petrov\n",
      "Средняя оценка за домашнее задание: 8.0\n",
      "Курсы в процессе обучения: Python\n",
      "Завершенные курсы: Введение в программирование\n",
      "Перечень лекторов:\n",
      "\n",
      "Имя: Ivan\n",
      "Фамилия: Ivanov\n",
      "Средняя оценка за лекции: 9.0\n",
      "\n",
      "Имя: Petr\n",
      "Фамилия: Petrov\n",
      "Средняя оценка за лекции: 9.0\n",
      "\n",
      "Имя: Semen\n",
      "Фамилия: Zarev\n",
      "Средняя оценка за лекции: 6.0\n",
      "Результат сравнения студентов (по средним оценкам за ДЗ): Denis Sviridov < Roman Malikov = True\n",
      "Результат сравнения лекторов (по средним оценкам за лекции): Ivan Ivanov < Petr Petrov = False\n"
     ]
    }
   ],
   "source": [
    "print(f'Перечень студентов:\\n\\n{student_1}\\n\\n{student_2}\\n\\n{student_3}')\n",
    "\n",
    "print(f'Перечень лекторов:\\n\\n{best_lecturer_1}\\n\\n{best_lecturer_2}\\n\\n{best_lecturer_3}')\n",
    "\n",
    "print(f'Результат сравнения студентов (по средним оценкам за ДЗ): '\n",
    "      f'{student_1.name} {student_1.surname} < {student_2.name} {student_2.surname} = {student_1 > student_2}')\n",
    "\n",
    "print(f'Результат сравнения лекторов (по средним оценкам за лекции): '\n",
    "      f'{best_lecturer_1.name} {best_lecturer_1.surname} < {best_lecturer_2.name} {best_lecturer_2.surname} = {best_lecturer_1 > best_lecturer_2}')\n",
    "student_list = [student_1, student_2, student_3]\n",
    "lecturer_list = [best_lecturer_1, best_lecturer_2, best_lecturer_3]"
   ]
  },
  {
   "cell_type": "code",
   "execution_count": 15,
   "id": "c69b2cf8",
   "metadata": {},
   "outputs": [],
   "source": [
    "def student_rating(student_list, course_name):\n",
    "    sum_all = 0\n",
    "    count_all = 0\n",
    "    for stud in student_list:\n",
    "        if stud.courses_in_progress == [course_name]:\n",
    "            sum_all += stud.average_rating\n",
    "            count_all += 1\n",
    "    average_for_all = sum_all / count_all\n",
    "    return average_for_all\n"
   ]
  },
  {
   "cell_type": "code",
   "execution_count": 16,
   "id": "3be7a36a",
   "metadata": {},
   "outputs": [],
   "source": [
    "def lecturer_rating(lecturer_list, course_name):\n",
    "    sum_all = 0\n",
    "    count_all = 0\n",
    "    for lect in lecturer_list:\n",
    "        if lect.courses_attached == [course_name]:\n",
    "            sum_all += lect.average_rating\n",
    "            count_all += 1\n",
    "    average_for_all = sum_all / count_all\n",
    "    return average_for_all"
   ]
  },
  {
   "cell_type": "code",
   "execution_count": 17,
   "id": "ac5ad8cd",
   "metadata": {},
   "outputs": [
    {
     "name": "stdout",
     "output_type": "stream",
     "text": [
      "Средняя оценка для всех студентов по курсу Python: 8.5\n",
      "\n",
      "Средняя оценка для всех лекторов по курсу Python: 7.5\n",
      "\n"
     ]
    }
   ],
   "source": [
    "print(f\"Средняя оценка для всех студентов по курсу {'Python'}: {student_rating(student_list, 'Python')}\")\n",
    "print()\n",
    "print(f\"Средняя оценка для всех лекторов по курсу {'Python'}: {lecturer_rating(lecturer_list, 'Python')}\")\n",
    "print()"
   ]
  },
  {
   "cell_type": "code",
   "execution_count": null,
   "id": "efaff8b3",
   "metadata": {},
   "outputs": [],
   "source": []
  }
 ],
 "metadata": {
  "kernelspec": {
   "display_name": "Python 3 (ipykernel)",
   "language": "python",
   "name": "python3"
  },
  "language_info": {
   "codemirror_mode": {
    "name": "ipython",
    "version": 3
   },
   "file_extension": ".py",
   "mimetype": "text/x-python",
   "name": "python",
   "nbconvert_exporter": "python",
   "pygments_lexer": "ipython3",
   "version": "3.9.13"
  }
 },
 "nbformat": 4,
 "nbformat_minor": 5
}
